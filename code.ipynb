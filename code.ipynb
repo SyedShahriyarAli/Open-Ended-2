{
 "cells": [
  {
   "cell_type": "code",
   "execution_count": 6,
   "metadata": {},
   "outputs": [
    {
     "name": "stdout",
     "output_type": "stream",
     "text": [
      "(7, 'dccaccd')\n"
     ]
    }
   ],
   "source": [
    "# Syed Shahriyar Ali\n",
    "# 22F-BSAI-06\n",
    "\n",
    "s = 'abccccdd'\n",
    "\n",
    "def GetLongestPalindrome(s):\n",
    "    length = len(s)\n",
    "    \n",
    "    if length == 1:\n",
    "        return (1, s)\n",
    "\n",
    "    collection = { }\n",
    "    \n",
    "    # Creating a collection of characters with len\n",
    "    for i in range(length):\n",
    "        if s[i] in collection.keys():\n",
    "            collection[f'{s[i]}'] += 1\n",
    "        else :\n",
    "            collection[f'{s[i]}'] = 1\n",
    "\n",
    "    # sorting the collection in reversed order\n",
    "    collection = dict(sorted(collection.items(), key=lambda item: item[1], reverse=True))\n",
    "    palindrom = []\n",
    "    oneAdded = False\n",
    "    mid = 0\n",
    "\n",
    "    # If char is repeated in the multiples of 2, it is added // 2 time, one at start and one at end\n",
    "    for i in collection.keys():\n",
    "        if collection[i] % 2 == 0:\n",
    "            for j in range(collection[i] // 2):\n",
    "                palindrom.insert(0, i)\n",
    "                palindrom.insert(len(palindrom), i)\n",
    "        elif oneAdded == False and collection[i] == 1:\n",
    "            mid = len(palindrom) // 2\n",
    "            palindrom.insert(mid, i)\n",
    "            oneAdded = True\n",
    "        \n",
    "    # returning the length and palidrom in string\n",
    "    return (len(palindrom), ''.join(palindrom))\n",
    "\n",
    "print(GetLongestPalindrome(s))\n"
   ]
  }
 ],
 "metadata": {
  "kernelspec": {
   "display_name": "base",
   "language": "python",
   "name": "python3"
  },
  "language_info": {
   "codemirror_mode": {
    "name": "ipython",
    "version": 3
   },
   "file_extension": ".py",
   "mimetype": "text/x-python",
   "name": "python",
   "nbconvert_exporter": "python",
   "pygments_lexer": "ipython3",
   "version": "3.12.7"
  }
 },
 "nbformat": 4,
 "nbformat_minor": 2
}
